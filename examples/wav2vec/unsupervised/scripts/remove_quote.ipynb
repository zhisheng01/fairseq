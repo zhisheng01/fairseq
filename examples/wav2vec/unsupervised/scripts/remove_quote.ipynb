{
 "cells": [
  {
   "cell_type": "code",
   "execution_count": 1,
   "metadata": {},
   "outputs": [],
   "source": [
    "import os\n",
    "\n",
    "corpus = \"/fairseq/examples/wav2vec/manifest-u2/processed-lm-from-librivox\"\n",
    "\n",
    "with open(os.path.join(corpus, \"quote.txt\"), \"r\") as f:\n",
    "    quote = f.readlines()\n",
    "    "
   ]
  },
  {
   "cell_type": "code",
   "execution_count": 2,
   "metadata": {},
   "outputs": [],
   "source": [
    "quote = [int(num.strip()) for num in quote]"
   ]
  },
  {
   "cell_type": "code",
   "execution_count": 3,
   "metadata": {},
   "outputs": [],
   "source": [
    "with open(os.path.join(corpus, \"phones.txt\"), \"r\") as pf, \\\n",
    "        open(os.path.join(corpus, \"words.txt\"), \"r\") as wf, \\\n",
    "        open(os.path.join(corpus, \"lexicon.lst\")) as lf:\n",
    "    phones = pf.readlines()\n",
    "    words = wf.readlines()\n",
    "    lexicon = lf.readlines()\n"
   ]
  },
  {
   "cell_type": "code",
   "execution_count": 4,
   "metadata": {},
   "outputs": [],
   "source": [
    "with open(os.path.join(corpus, \"phones-new.txt\"), \"w\") as pwf, \\\n",
    "        open(os.path.join(corpus, \"words-new.txt\"), \"w\") as wwf, \\\n",
    "        open(os.path.join(corpus, \"lexicon-new.lst\"), \"w\") as lwf:\n",
    "    for idx in range(len(phones)):\n",
    "        if idx not in quote:\n",
    "            pwf.write(phones[idx-1])\n",
    "            wwf.write(words[idx-1])\n",
    "            lwf.write(lexicon[idx-1])"
   ]
  },
  {
   "cell_type": "code",
   "execution_count": 5,
   "metadata": {},
   "outputs": [
    {
     "data": {
      "text/plain": [
       "(472212, 472212, 472212, 54842)"
      ]
     },
     "execution_count": 5,
     "metadata": {},
     "output_type": "execute_result"
    }
   ],
   "source": [
    "len(phones), len(words), len(lexicon), len(quote)"
   ]
  }
 ],
 "metadata": {
  "kernelspec": {
   "display_name": "Python 3.8.12 ('wav2vec': conda)",
   "language": "python",
   "name": "python3"
  },
  "language_info": {
   "codemirror_mode": {
    "name": "ipython",
    "version": 3
   },
   "file_extension": ".py",
   "mimetype": "text/x-python",
   "name": "python",
   "nbconvert_exporter": "python",
   "pygments_lexer": "ipython3",
   "version": "3.8.12"
  },
  "orig_nbformat": 4,
  "vscode": {
   "interpreter": {
    "hash": "01e2b291520104204c2757690fe854397a0c17b7702d2046cf9d41e45fc90858"
   }
  }
 },
 "nbformat": 4,
 "nbformat_minor": 2
}
